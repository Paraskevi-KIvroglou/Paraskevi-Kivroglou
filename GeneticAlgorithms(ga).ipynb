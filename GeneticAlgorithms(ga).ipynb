{
  "nbformat": 4,
  "nbformat_minor": 0,
  "metadata": {
    "colab": {
      "provenance": [],
      "toc_visible": true,
      "authorship_tag": "ABX9TyMMaEV6D6eWlnPBddLRq8tW"
    },
    "kernelspec": {
      "name": "python3",
      "display_name": "Python 3"
    },
    "language_info": {
      "name": "python"
    }
  },
  "cells": [
    {
      "cell_type": "markdown",
      "source": [
        "# Exercise 1 Genetic Algorithms\n"
      ],
      "metadata": {
        "id": "2AB48y-g76qt"
      }
    },
    {
      "cell_type": "markdown",
      "source": [
        "Implement the main() function of GA for solving the Knapsack\n",
        "Problem with the following inputs:\n",
        "Max carry weight: M = 30\n",
        "Number of available items: n = 7,\n",
        "Each item has random weight (0 ≤ 𝑤 ≤ 15) and value (0 ≤ 𝑣 ≤ 10)\n",
        "Number of randomly generated chromosomes: m = 10\n",
        "Number of generations: G = 100\n"
      ],
      "metadata": {
        "id": "raBJXH528DM9"
      }
    },
    {
      "cell_type": "markdown",
      "source": [
        "Initialization Phase Step 1"
      ],
      "metadata": {
        "id": "T-BHCtLF9Hla"
      }
    },
    {
      "cell_type": "markdown",
      "source": [
        "This function takes as arguments:\n",
        "*   sizeOfPop = size of the popoulation\n",
        "*   NUM_ITEMS = number of items\n",
        "\n",
        "\n",
        "\n",
        "*This function creates a population which means a list of chromosomes(=individuals) with length equal to sizeOfPop. Each Chromosome(= possible solution to be examined) is created randomly based on the NUM_ITEMS. Basically this represents the number of genes each chromosome will have. For the KnapSack Problem it represents the items that we have available to add to out Knapsack and the 0 or 1 representation means if we choose or not this item. Each chromosome is a possible combination or solution to the Knapsack problem. So the population contains all the possible solutions that we are going to evaluate out further.*\n",
        "\n"
      ],
      "metadata": {
        "id": "hgeOsGd_ngAy"
      }
    },
    {
      "cell_type": "code",
      "source": [
        "import random\n",
        "def Initialization(sizeOfPop, NUM_ITEMS):\n",
        "  Population = []\n",
        "  for x in range (0, sizeOfPop):\n",
        "    individual = []\n",
        "    for y in range (0, NUM_ITEMS):\n",
        "      individual.append(random.randint(0,1))\n",
        "    Population.append(individual)\n",
        "  return Population\n",
        "\n",
        "\n",
        "result = Initialization(30,50);\n",
        "print(result)"
      ],
      "metadata": {
        "colab": {
          "base_uri": "https://localhost:8080/"
        },
        "id": "S0e2BPMY9F1A",
        "outputId": "498415fc-422c-4a17-97a3-47bbbdccb646"
      },
      "execution_count": null,
      "outputs": [
        {
          "output_type": "stream",
          "name": "stdout",
          "text": [
            "[[0, 0, 1, 0, 0, 1, 1, 0, 0, 0, 1, 0, 1, 1, 1, 1, 1, 0, 0, 0, 1, 0, 1, 0, 1, 0, 1, 0, 1, 0, 0, 1, 0, 0, 1, 1, 0, 1, 1, 1, 1, 0, 1, 1, 1, 1, 0, 0, 1, 1], [1, 1, 0, 0, 1, 1, 0, 0, 0, 1, 0, 1, 1, 1, 1, 0, 1, 1, 0, 1, 0, 1, 0, 1, 0, 1, 1, 0, 0, 0, 0, 0, 0, 0, 1, 1, 1, 1, 1, 0, 1, 0, 1, 0, 1, 0, 1, 0, 1, 1], [0, 1, 0, 1, 0, 0, 0, 0, 0, 0, 0, 1, 1, 0, 0, 0, 0, 0, 0, 0, 0, 1, 1, 1, 1, 0, 0, 1, 1, 1, 0, 0, 1, 0, 0, 1, 0, 1, 0, 1, 0, 1, 0, 1, 1, 1, 0, 0, 0, 1], [1, 1, 0, 0, 0, 1, 1, 1, 0, 0, 0, 0, 0, 1, 1, 0, 0, 0, 1, 1, 1, 1, 0, 1, 1, 1, 1, 0, 0, 0, 0, 1, 1, 1, 0, 0, 1, 0, 0, 1, 0, 0, 0, 0, 0, 1, 0, 0, 1, 0], [0, 0, 0, 0, 1, 0, 0, 0, 0, 1, 0, 0, 1, 0, 0, 1, 0, 1, 0, 0, 1, 1, 0, 0, 1, 1, 1, 0, 0, 0, 1, 1, 1, 1, 0, 1, 1, 0, 1, 0, 1, 0, 0, 1, 1, 0, 1, 1, 0, 0], [1, 0, 0, 0, 0, 0, 0, 1, 0, 0, 0, 0, 0, 1, 0, 1, 1, 0, 0, 0, 0, 0, 0, 0, 0, 1, 1, 0, 1, 1, 1, 0, 0, 0, 1, 1, 0, 1, 1, 0, 1, 0, 0, 0, 1, 0, 1, 1, 0, 1], [1, 1, 0, 1, 1, 1, 0, 1, 0, 0, 0, 0, 0, 1, 1, 0, 1, 1, 0, 1, 1, 1, 0, 1, 1, 1, 1, 0, 1, 0, 0, 0, 1, 0, 0, 0, 1, 0, 1, 0, 1, 0, 1, 1, 1, 0, 0, 0, 1, 1], [1, 1, 1, 1, 0, 0, 1, 0, 1, 0, 1, 0, 0, 1, 0, 1, 1, 1, 1, 1, 1, 1, 0, 1, 0, 0, 0, 1, 1, 0, 0, 1, 0, 1, 1, 0, 0, 1, 0, 1, 1, 1, 1, 1, 1, 0, 0, 1, 0, 1], [0, 0, 1, 1, 0, 1, 0, 1, 0, 0, 0, 1, 1, 1, 0, 1, 1, 1, 0, 0, 0, 1, 0, 0, 0, 0, 0, 1, 0, 1, 0, 0, 0, 0, 1, 1, 0, 0, 1, 0, 0, 0, 0, 1, 0, 0, 0, 0, 1, 0], [0, 1, 1, 1, 1, 1, 0, 0, 1, 1, 1, 1, 1, 0, 1, 1, 0, 1, 1, 0, 0, 1, 0, 1, 1, 1, 1, 1, 1, 0, 1, 0, 0, 0, 1, 0, 0, 0, 1, 1, 1, 1, 1, 1, 1, 0, 0, 0, 1, 0], [0, 1, 0, 1, 0, 1, 1, 1, 1, 1, 0, 0, 1, 0, 0, 0, 1, 1, 0, 1, 0, 1, 0, 1, 1, 0, 1, 1, 1, 1, 0, 0, 1, 0, 1, 1, 1, 0, 0, 0, 1, 1, 1, 1, 0, 1, 1, 0, 0, 0], [1, 0, 0, 1, 1, 1, 1, 1, 1, 1, 0, 0, 1, 0, 0, 0, 1, 0, 1, 0, 1, 0, 1, 1, 1, 1, 0, 0, 0, 1, 1, 0, 1, 0, 0, 1, 1, 0, 0, 1, 1, 1, 0, 1, 1, 1, 1, 1, 0, 1], [0, 0, 1, 0, 1, 0, 0, 1, 1, 0, 1, 0, 0, 0, 1, 0, 1, 1, 1, 1, 0, 1, 0, 1, 1, 0, 0, 0, 0, 1, 1, 1, 1, 1, 1, 0, 1, 1, 0, 0, 0, 1, 1, 1, 0, 1, 1, 1, 1, 0], [0, 0, 0, 1, 0, 0, 0, 1, 1, 0, 1, 0, 0, 1, 0, 0, 1, 1, 1, 1, 1, 0, 1, 0, 1, 0, 1, 1, 1, 0, 0, 1, 0, 1, 1, 0, 0, 1, 0, 0, 1, 1, 0, 0, 0, 0, 1, 1, 0, 1], [1, 1, 0, 0, 1, 0, 1, 1, 1, 0, 1, 1, 0, 1, 0, 1, 1, 1, 0, 1, 1, 1, 0, 0, 0, 1, 1, 0, 1, 1, 0, 1, 1, 1, 0, 1, 1, 1, 0, 0, 0, 1, 0, 1, 1, 0, 1, 1, 0, 1], [0, 0, 0, 0, 0, 1, 0, 1, 0, 1, 1, 1, 0, 1, 1, 1, 1, 0, 0, 1, 0, 1, 0, 0, 1, 1, 0, 1, 0, 0, 1, 0, 0, 0, 1, 1, 1, 0, 1, 1, 0, 1, 1, 0, 1, 0, 1, 0, 1, 1], [0, 0, 1, 1, 1, 1, 1, 0, 1, 0, 1, 1, 1, 1, 1, 0, 1, 1, 0, 1, 0, 1, 1, 0, 0, 1, 1, 0, 1, 0, 0, 1, 0, 1, 0, 1, 1, 0, 0, 0, 1, 1, 0, 0, 1, 1, 0, 1, 0, 0], [0, 0, 1, 0, 1, 0, 0, 1, 1, 1, 0, 1, 1, 1, 1, 1, 1, 0, 1, 0, 0, 0, 0, 1, 0, 0, 1, 0, 0, 0, 0, 0, 1, 1, 1, 1, 0, 1, 0, 0, 1, 1, 1, 1, 1, 1, 0, 0, 0, 1], [1, 0, 0, 1, 0, 1, 0, 0, 1, 0, 0, 1, 1, 0, 0, 0, 0, 0, 1, 1, 0, 0, 0, 0, 0, 1, 0, 1, 1, 1, 1, 1, 0, 1, 1, 0, 0, 1, 1, 0, 1, 0, 0, 0, 1, 1, 0, 1, 1, 0], [1, 0, 1, 1, 1, 0, 1, 0, 0, 0, 1, 1, 0, 0, 0, 0, 0, 0, 1, 0, 1, 1, 1, 1, 1, 0, 1, 0, 0, 0, 1, 0, 0, 1, 1, 1, 1, 0, 1, 0, 0, 1, 1, 0, 0, 1, 1, 1, 1, 0], [0, 1, 1, 1, 0, 0, 0, 1, 0, 0, 0, 0, 1, 0, 0, 1, 0, 0, 1, 1, 1, 1, 0, 1, 1, 1, 1, 0, 1, 1, 0, 1, 1, 1, 1, 1, 1, 1, 1, 0, 0, 1, 0, 1, 0, 1, 1, 1, 0, 1], [1, 0, 0, 0, 0, 0, 0, 0, 1, 0, 1, 1, 1, 1, 0, 0, 1, 1, 0, 0, 1, 1, 1, 1, 1, 1, 1, 1, 1, 0, 1, 0, 1, 1, 1, 0, 1, 1, 1, 1, 0, 1, 1, 0, 1, 0, 0, 1, 0, 1], [1, 0, 0, 1, 1, 1, 0, 0, 0, 0, 1, 0, 0, 0, 1, 0, 1, 1, 1, 0, 0, 1, 0, 1, 1, 0, 1, 0, 1, 1, 0, 1, 1, 1, 1, 0, 0, 0, 0, 0, 0, 1, 0, 0, 0, 1, 0, 0, 1, 0], [0, 0, 1, 1, 1, 0, 0, 0, 0, 0, 1, 0, 0, 0, 1, 1, 1, 1, 1, 1, 0, 1, 1, 1, 1, 0, 0, 0, 1, 0, 1, 0, 1, 1, 0, 1, 0, 1, 0, 1, 1, 0, 0, 1, 0, 0, 0, 1, 0, 1], [1, 0, 0, 0, 0, 0, 1, 0, 1, 0, 1, 0, 1, 1, 0, 0, 0, 1, 0, 1, 0, 1, 0, 0, 0, 0, 1, 0, 1, 0, 0, 0, 0, 0, 0, 1, 1, 0, 1, 0, 0, 0, 1, 1, 0, 1, 0, 1, 1, 0], [1, 0, 0, 0, 1, 0, 0, 0, 1, 0, 0, 0, 0, 0, 0, 1, 0, 0, 0, 0, 0, 0, 0, 0, 1, 0, 0, 0, 0, 0, 1, 0, 0, 0, 0, 0, 1, 0, 0, 1, 0, 0, 1, 0, 0, 1, 1, 0, 1, 0], [0, 1, 1, 0, 0, 1, 0, 0, 1, 0, 0, 0, 0, 0, 1, 0, 1, 1, 1, 0, 0, 1, 0, 0, 0, 1, 1, 1, 0, 0, 0, 1, 1, 1, 0, 0, 1, 1, 0, 0, 1, 1, 0, 1, 1, 1, 1, 1, 1, 1], [1, 0, 1, 1, 1, 1, 0, 1, 1, 0, 1, 0, 1, 1, 0, 0, 0, 0, 0, 0, 0, 1, 1, 0, 0, 0, 0, 1, 1, 0, 1, 1, 1, 0, 0, 1, 0, 1, 1, 0, 0, 1, 1, 0, 0, 1, 0, 1, 0, 1], [0, 1, 1, 1, 0, 1, 0, 0, 0, 0, 1, 0, 0, 1, 1, 0, 0, 1, 0, 0, 1, 1, 1, 0, 1, 1, 1, 0, 0, 0, 1, 1, 1, 0, 0, 1, 1, 0, 0, 0, 1, 0, 0, 0, 0, 0, 0, 1, 1, 0], [1, 1, 1, 1, 1, 0, 1, 1, 0, 1, 0, 1, 1, 0, 0, 0, 1, 0, 0, 1, 1, 0, 1, 1, 1, 1, 0, 1, 0, 1, 1, 1, 1, 1, 1, 0, 0, 0, 0, 1, 1, 1, 1, 0, 0, 1, 0, 1, 0, 1]]\n"
          ]
        }
      ]
    },
    {
      "cell_type": "markdown",
      "source": [
        "FItness Face Step 2"
      ],
      "metadata": {
        "id": "YXG3g-Er9u_N"
      }
    },
    {
      "cell_type": "markdown",
      "source": [
        "This function accepts three parameters:\n",
        "\n",
        "1.   individual = each chromosome or possible solution\n",
        "2.   ITEMS = the actual items that we have available\n",
        "3.   KnapsackCapacity = the capacity of the weight that the knapsack  can carry\n",
        "\n",
        "*This function measures the fitness value of each solution. Basically it sums up the total Value of the solution according to the total Weight. If the total Weight of the solution is higher than the actual value then it returns zero. This will be used during the evaluation step in order to select which of the chromosomes or solutions will be part of the next generation.*\n",
        "\n"
      ],
      "metadata": {
        "id": "IsnkP99gq3zl"
      }
    },
    {
      "cell_type": "code",
      "source": [
        "def fitness(individual, ITEMS, KnapsackCapacity):\n",
        "    total_value = 0\n",
        "    total_weight = 0\n",
        "    index = 0\n",
        "    for i in individual:\n",
        "      if index >= len(ITEMS):\n",
        "        break\n",
        "      if (i == 1):\n",
        "        total_value += ITEMS[index][0]\n",
        "        total_weight += ITEMS[index][1]\n",
        "        index += 1\n",
        "      if total_weight > KnapsackCapacity:\n",
        "        return 0\n",
        "      else:\n",
        "        return total_value\n"
      ],
      "metadata": {
        "id": "iFHvbizY-CLE"
      },
      "execution_count": null,
      "outputs": []
    },
    {
      "cell_type": "markdown",
      "source": [
        "Evolution Phase Step 3"
      ],
      "metadata": {
        "id": "6UjwHmpB-xtV"
      }
    },
    {
      "cell_type": "markdown",
      "source": [
        "This function takes as a parameter the population. Population contains all possible chromosomes or all possible solutions to our optimization problem.\n",
        "\n",
        "*Evolution function follows the steps:*\n",
        "\n",
        "1.   *Selection:*\n",
        "  \n",
        "  This creates a subset of the population that contains\n",
        " the best solutions according to parent percent. The value parent percent selects the first elements that belong to the percent of the actual population. Since the population is always sorted in a descending order (max -> min) then we just select the parent percent of the population list from the start.\n",
        "\n",
        "2.   *Crossover:*\n",
        "\n",
        "  In this step the crossover of random steps of the population happpens. Firstly we find the actual number of children that we need to append. That is being represented as the length of the population - the length of the parents list.\n",
        "  Then basically this is the number of children that we need to have in a population. Population should have in every iterative step the same length. Then we select randonly two parents (chromosomes). In this function the single crossover is selected. We find the location of the gene that seperates the chromosomes in half and we create the childern by selecting one half from one parent and one half from the second parent. Then we store the new generated children after the iteration.\n",
        "3.   *Mutation:*\n",
        "\n",
        "  In this step we iterate over the list of children. If we reach a mutation chance then we randomly flip some genes of the child chromosome (0 -> 1 or 1 -> 0). This step helps our solution to not get stuck in a possible local optimum.  \n",
        "  Then we add the children after this phase to an initial list with the parents. Lastly we have generated the new popolation."
      ],
      "metadata": {
        "id": "j4XjhUh0Ah7B"
      }
    },
    {
      "cell_type": "code",
      "source": [
        "def Evolution(pop):\n",
        "  parent_percent = 0.2\n",
        "  mutation_chance = 0.08\n",
        "  parent_lottery = 0.05\n",
        "  # Selection\n",
        "  parent_length = int(parent_percent *len(pop))\n",
        "  parents = pop[:parent_length]\n",
        "  # CROSS-OVER\n",
        "  children = []\n",
        "  desired_length = len(pop) - len(parents)\n",
        "  while len(children) < desired_length :\n",
        "    male = pop[random.randint(0,len(parents)-1)]\n",
        "    female = pop[random.randint(0,len(parents)-1)]\n",
        "    half = int(len(male)/2)\n",
        "    child = male[:half] + female[half:]\n",
        "    children.append(child)\n",
        "  # Mutation\n",
        "  for child in children:\n",
        "    if mutation_chance > random.random():\n",
        "      r = random.randint(0,len(child)-1)\n",
        "      if child[r] == 1:\n",
        "        child[r] = 0\n",
        "      else:\n",
        "        child[r] = 1\n",
        "  parents.extend(children)\n",
        "  return parents"
      ],
      "metadata": {
        "id": "DRsV98z6-2mM"
      },
      "execution_count": null,
      "outputs": []
    },
    {
      "cell_type": "markdown",
      "source": [
        "Main part of the task that all functions and steps are combined."
      ],
      "metadata": {
        "id": "zBTAk9A0-3es"
      }
    },
    {
      "cell_type": "code",
      "execution_count": null,
      "metadata": {
        "colab": {
          "base_uri": "https://localhost:8080/"
        },
        "id": "TvfyEhwV3t3n",
        "outputId": "8d8b2ab6-53be-474a-86af-5513a4ea2ebc"
      },
      "outputs": [
        {
          "output_type": "stream",
          "name": "stdout",
          "text": [
            "77\n",
            "77\n",
            "77\n",
            "77\n",
            "77\n",
            "77\n",
            "77\n",
            "77\n",
            "77\n",
            "77\n",
            "77\n",
            "77\n",
            "77\n",
            "77\n",
            "77\n",
            "77\n",
            "77\n",
            "77\n",
            "77\n",
            "77\n",
            "77\n",
            "77\n",
            "77\n",
            "77\n",
            "77\n",
            "77\n",
            "77\n",
            "77\n",
            "77\n",
            "77\n",
            "77\n",
            "77\n",
            "77\n",
            "77\n",
            "77\n",
            "77\n",
            "77\n",
            "77\n",
            "77\n",
            "77\n",
            "77\n",
            "77\n",
            "77\n",
            "77\n",
            "77\n",
            "77\n",
            "77\n",
            "77\n",
            "77\n",
            "77\n",
            "77\n",
            "77\n",
            "77\n",
            "77\n",
            "77\n",
            "77\n",
            "77\n",
            "77\n",
            "77\n",
            "77\n",
            "77\n",
            "77\n",
            "77\n",
            "77\n",
            "77\n",
            "77\n",
            "77\n",
            "77\n",
            "77\n",
            "77\n",
            "77\n",
            "77\n",
            "77\n",
            "77\n",
            "77\n",
            "77\n",
            "77\n",
            "77\n",
            "77\n",
            "77\n",
            "77\n",
            "77\n",
            "77\n",
            "77\n",
            "77\n",
            "77\n",
            "77\n",
            "77\n",
            "77\n",
            "77\n",
            "77\n",
            "77\n",
            "77\n",
            "77\n",
            "77\n",
            "77\n",
            "77\n",
            "77\n",
            "77\n",
            "77\n",
            "[1, 0, 1, 0, 1, 1, 1]\n",
            "None\n"
          ]
        }
      ],
      "source": [
        "def main():\n",
        "  import random\n",
        "  KCap = 30\n",
        "  POP_SIZE = 10\n",
        "  GEN_MAX = 100\n",
        "  NUM_ITEMS = 7\n",
        "  ITEMS = [(random.randint(0,15),random.randint(0,10))\n",
        "  for x in range (0, NUM_ITEMS)]\n",
        "  generation = 1 #Generation counter\n",
        "  population = Initialization(POP_SIZE, NUM_ITEMS)\n",
        "  for g in range(0,GEN_MAX):\n",
        "    population = sorted(population,\n",
        "    key=lambda ind: fitness(ind, ITEMS, KCap),\n",
        "    reverse=True)\n",
        "    totalFitness = 0\n",
        "    for i in population:\n",
        "      totalFitness += fitness(i, ITEMS, KCap)\n",
        "    print(totalFitness)\n",
        "  population = Evolution(population)\n",
        "  generation += 1\n",
        "  population = sorted(population,\n",
        "  key=lambda ind: fitness(ind, ITEMS, KCap),\n",
        "  reverse=True)\n",
        "  print(population[0])\n",
        "\n",
        "\n",
        "result = main()\n",
        "print(result)\n",
        "\n"
      ]
    },
    {
      "cell_type": "markdown",
      "source": [
        "Output of the function:\n",
        "[1, 0, 1, 0, 1, 1, 1]"
      ],
      "metadata": {
        "id": "oR8gaTGBH150"
      }
    }
  ]
}